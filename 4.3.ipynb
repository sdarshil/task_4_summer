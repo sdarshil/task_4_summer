{
 "cells": [
  {
   "cell_type": "code",
   "execution_count": 1,
   "id": "alone-blowing",
   "metadata": {},
   "outputs": [],
   "source": [
    "import cv2 as cv"
   ]
  },
  {
   "cell_type": "code",
   "execution_count": 2,
   "id": "rubber-paris",
   "metadata": {},
   "outputs": [],
   "source": [
    "import numpy"
   ]
  },
  {
   "cell_type": "code",
   "execution_count": 13,
   "id": "radical-sellers",
   "metadata": {},
   "outputs": [],
   "source": [
    "photo = cv.imread(\"sitting2.jpg\")"
   ]
  },
  {
   "cell_type": "code",
   "execution_count": 33,
   "id": "trying-paradise",
   "metadata": {},
   "outputs": [],
   "source": [
    "photo1 = cv.imread(\"jumping2.jpg\")"
   ]
  },
  {
   "cell_type": "code",
   "execution_count": 41,
   "id": "tutorial-behavior",
   "metadata": {},
   "outputs": [],
   "source": [
    "photo_cut = photo[0:700 , 0:650]"
   ]
  },
  {
   "cell_type": "code",
   "execution_count": 38,
   "id": "accessory-billy",
   "metadata": {},
   "outputs": [],
   "source": [
    "cv.imshow(\"cat\" , photo_cut)\n",
    "cv.waitKey()\n",
    "cv.destroyAllWindows()\n"
   ]
  },
  {
   "cell_type": "code",
   "execution_count": 40,
   "id": "pressed-johns",
   "metadata": {},
   "outputs": [],
   "source": [
    "photo1_cut = photo1[0:700 , 0:650]"
   ]
  },
  {
   "cell_type": "code",
   "execution_count": 35,
   "id": "acting-bradley",
   "metadata": {},
   "outputs": [],
   "source": [
    "cv.imshow(\"cat1\" , photo1_cut)\n",
    "cv.waitKey()\n",
    "cv.destroyAllWindows()"
   ]
  },
  {
   "cell_type": "code",
   "execution_count": 42,
   "id": "removable-stanford",
   "metadata": {},
   "outputs": [],
   "source": [
    "collage = numpy.hstack((photo_cut , photo1_cut))"
   ]
  },
  {
   "cell_type": "code",
   "execution_count": 43,
   "id": "pregnant-stand",
   "metadata": {},
   "outputs": [],
   "source": [
    "cv.imshow(\"cat1\" , collage)\n",
    "cv.waitKey()\n",
    "cv.destroyAllWindows()"
   ]
  },
  {
   "cell_type": "code",
   "execution_count": null,
   "id": "forbidden-colombia",
   "metadata": {},
   "outputs": [],
   "source": []
  }
 ],
 "metadata": {
  "kernelspec": {
   "display_name": "Python 3",
   "language": "python",
   "name": "python3"
  },
  "language_info": {
   "codemirror_mode": {
    "name": "ipython",
    "version": 3
   },
   "file_extension": ".py",
   "mimetype": "text/x-python",
   "name": "python",
   "nbconvert_exporter": "python",
   "pygments_lexer": "ipython3",
   "version": "3.8.8"
  }
 },
 "nbformat": 4,
 "nbformat_minor": 5
}
