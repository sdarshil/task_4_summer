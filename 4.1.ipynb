{
 "cells": [
  {
   "cell_type": "code",
   "execution_count": 34,
   "id": "capital-cylinder",
   "metadata": {},
   "outputs": [],
   "source": [
    "import cv2 "
   ]
  },
  {
   "cell_type": "code",
   "execution_count": 35,
   "id": "offshore-david",
   "metadata": {},
   "outputs": [],
   "source": [
    "import numpy"
   ]
  },
  {
   "cell_type": "code",
   "execution_count": 42,
   "id": "exclusive-convenience",
   "metadata": {},
   "outputs": [],
   "source": [
    "image = numpy.zeros((500 , 500 ,3))"
   ]
  },
  {
   "cell_type": "code",
   "execution_count": null,
   "id": "judicial-portland",
   "metadata": {},
   "outputs": [],
   "source": []
  },
  {
   "cell_type": "code",
   "execution_count": 56,
   "id": "sufficient-springfield",
   "metadata": {},
   "outputs": [],
   "source": [
    "#FACE\n",
    "image[50:200 , 160:340] = [0,0,255]\n",
    "\n",
    "#eyes\n",
    "image[100:120 , 200:225] = [0,0,0]\n",
    "image[90:125 , 290:310] = [0,0,0]\n",
    "\n",
    "#MOUTH\n",
    "image[145:170 , 195:310] = [0,0,0]\n",
    "\n",
    "#BODY\n",
    "image[200:330 , 220:280] = [0 , 255 , 0]\n",
    "\n",
    "#Lower Body \n",
    "image[300:330 , 200:300] = [ 255 , 0 , 0]\n",
    "\n",
    "#right hand\n",
    "image[220:230 , 110:220] = [64 , 128 ,255]\n",
    "image"
   ]
  },
  {
   "cell_type": "code",
   "execution_count": 57,
   "id": "asian-leone",
   "metadata": {},
   "outputs": [],
   "source": [
    "cv2.imshow(\"black\" , image)\n",
    "cv2.waitKey()\n",
    "cv2.destroyAllWindows()"
   ]
  },
  {
   "cell_type": "code",
   "execution_count": null,
   "id": "cheap-participant",
   "metadata": {},
   "outputs": [],
   "source": []
  }
 ],
 "metadata": {
  "kernelspec": {
   "display_name": "Python 3",
   "language": "python",
   "name": "python3"
  },
  "language_info": {
   "codemirror_mode": {
    "name": "ipython",
    "version": 3
   },
   "file_extension": ".py",
   "mimetype": "text/x-python",
   "name": "python",
   "nbconvert_exporter": "python",
   "pygments_lexer": "ipython3",
   "version": "3.8.8"
  }
 },
 "nbformat": 4,
 "nbformat_minor": 5
}
