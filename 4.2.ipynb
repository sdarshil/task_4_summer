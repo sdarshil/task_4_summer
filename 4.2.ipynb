{
 "cells": [
  {
   "cell_type": "code",
   "execution_count": 54,
   "id": "supposed-numbers",
   "metadata": {},
   "outputs": [],
   "source": [
    "import cv2\n",
    "import numpy\n"
   ]
  },
  {
   "cell_type": "code",
   "execution_count": 55,
   "id": "understood-archive",
   "metadata": {},
   "outputs": [],
   "source": [
    "photo = cv2.imread(\"Dhoni.jpg\")"
   ]
  },
  {
   "cell_type": "code",
   "execution_count": 56,
   "id": "military-makeup",
   "metadata": {},
   "outputs": [],
   "source": [
    "cv2.imshow(\"dhoni\" , photo)\n",
    "cv2.waitKey()\n",
    "cv2.destroyAllWindows()\n"
   ]
  },
  {
   "cell_type": "code",
   "execution_count": 57,
   "id": "athletic-pharmacy",
   "metadata": {},
   "outputs": [],
   "source": [
    "photo1 = cv2.imread(\"rohitsharma.jpg\")"
   ]
  },
  {
   "cell_type": "code",
   "execution_count": 58,
   "id": "reported-bangladesh",
   "metadata": {},
   "outputs": [],
   "source": [
    "cv2.imshow(\"rohit\" , photo1)\n",
    "cv2.waitKey()\n",
    "cv2.destroyAllWindows()"
   ]
  },
  {
   "cell_type": "code",
   "execution_count": 59,
   "id": "double-census",
   "metadata": {},
   "outputs": [],
   "source": [
    "k=  photo1[110:230, 280:360] "
   ]
  },
  {
   "cell_type": "code",
   "execution_count": 60,
   "id": "yellow-consortium",
   "metadata": {},
   "outputs": [],
   "source": [
    "t  =  photo[50:175 , 99:300]"
   ]
  },
  {
   "cell_type": "code",
   "execution_count": 61,
   "id": "representative-requirement",
   "metadata": {},
   "outputs": [],
   "source": [
    "cv2.imshow(\"rohit\" , t)\n",
    "cv2.waitKey()\n",
    "cv2.destroyAllWindows()"
   ]
  },
  {
   "cell_type": "code",
   "execution_count": 62,
   "id": "protected-reggae",
   "metadata": {},
   "outputs": [
    {
     "data": {
      "text/plain": [
       "(120, 80, 3)"
      ]
     },
     "execution_count": 62,
     "metadata": {},
     "output_type": "execute_result"
    }
   ],
   "source": [
    "t_resize.shape"
   ]
  },
  {
   "cell_type": "code",
   "execution_count": 63,
   "id": "contained-jacket",
   "metadata": {},
   "outputs": [
    {
     "data": {
      "text/plain": [
       "(125, 201, 3)"
      ]
     },
     "execution_count": 63,
     "metadata": {},
     "output_type": "execute_result"
    }
   ],
   "source": [
    "k_resize.shape"
   ]
  },
  {
   "cell_type": "code",
   "execution_count": 64,
   "id": "wrapped-pattern",
   "metadata": {},
   "outputs": [],
   "source": [
    "t_resize= cv2.resize(t,(k.shape[1],k.shape[0]) )\n",
    "k_resize= cv2.resize(k,(t.shape[1],t.shape[0]) )"
   ]
  },
  {
   "cell_type": "code",
   "execution_count": 65,
   "id": "painted-cleveland",
   "metadata": {},
   "outputs": [
    {
     "data": {
      "text/plain": [
       "array([[[112, 108,  89],\n",
       "        [112, 108,  89],\n",
       "        [112, 108,  89],\n",
       "        ...,\n",
       "        [172, 181, 148],\n",
       "        [171, 182, 149],\n",
       "        [172, 183, 150]],\n",
       "\n",
       "       [[113, 109,  90],\n",
       "        [113, 109,  90],\n",
       "        [113, 109,  90],\n",
       "        ...,\n",
       "        [170, 181, 148],\n",
       "        [171, 182, 149],\n",
       "        [170, 184, 150]],\n",
       "\n",
       "       [[113, 112,  92],\n",
       "        [113, 112,  92],\n",
       "        [113, 112,  92],\n",
       "        ...,\n",
       "        [169, 183, 149],\n",
       "        [170, 184, 150],\n",
       "        [169, 185, 151]],\n",
       "\n",
       "       ...,\n",
       "\n",
       "       [[137, 110, 143],\n",
       "        [126, 110, 181],\n",
       "        [104, 100, 201],\n",
       "        ...,\n",
       "        [167, 101,  52],\n",
       "        [182, 115,  66],\n",
       "        [170, 101,  51]],\n",
       "\n",
       "       [[121, 104, 155],\n",
       "        [104,  98, 180],\n",
       "        [ 81,  84, 193],\n",
       "        ...,\n",
       "        [171, 105,  57],\n",
       "        [179, 111,  64],\n",
       "        [155,  87,  40]],\n",
       "\n",
       "       [[128, 121, 188],\n",
       "        [104, 106, 201],\n",
       "        [ 73,  82, 199],\n",
       "        ...,\n",
       "        [173, 103,  56],\n",
       "        [182, 112,  65],\n",
       "        [158,  89,  40]]], dtype=uint8)"
      ]
     },
     "execution_count": 65,
     "metadata": {},
     "output_type": "execute_result"
    }
   ],
   "source": [
    "photo1[110:230, 280:360] "
   ]
  },
  {
   "cell_type": "code",
   "execution_count": 66,
   "id": "marked-globe",
   "metadata": {},
   "outputs": [],
   "source": [
    "photo1[110:230, 280:360] = t_resize\n",
    "new = photo1"
   ]
  },
  {
   "cell_type": "code",
   "execution_count": 67,
   "id": "rocky-assist",
   "metadata": {},
   "outputs": [],
   "source": [
    "cv2.imshow(\"rohit\" , new)\n",
    "cv2.waitKey()\n",
    "cv2.destroyAllWindows()"
   ]
  },
  {
   "cell_type": "code",
   "execution_count": 52,
   "id": "informative-observation",
   "metadata": {},
   "outputs": [],
   "source": [
    "photo[50:175 , 99:300] = k_resize\n",
    "new1 = photo"
   ]
  },
  {
   "cell_type": "code",
   "execution_count": 53,
   "id": "attached-sixth",
   "metadata": {},
   "outputs": [],
   "source": [
    "cv2.imshow(\"dhoni\" , new1)\n",
    "cv2.waitKey()\n",
    "cv2.destroyAllWindows()"
   ]
  },
  {
   "cell_type": "code",
   "execution_count": null,
   "id": "informal-variance",
   "metadata": {},
   "outputs": [],
   "source": []
  }
 ],
 "metadata": {
  "kernelspec": {
   "display_name": "Python 3",
   "language": "python",
   "name": "python3"
  },
  "language_info": {
   "codemirror_mode": {
    "name": "ipython",
    "version": 3
   },
   "file_extension": ".py",
   "mimetype": "text/x-python",
   "name": "python",
   "nbconvert_exporter": "python",
   "pygments_lexer": "ipython3",
   "version": "3.8.8"
  }
 },
 "nbformat": 4,
 "nbformat_minor": 5
}
